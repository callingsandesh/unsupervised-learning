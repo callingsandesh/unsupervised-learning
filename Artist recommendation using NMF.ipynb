{
 "cells": [
  {
   "cell_type": "code",
   "execution_count": 93,
   "id": "c1bb088b",
   "metadata": {},
   "outputs": [],
   "source": [
    "import numpy as np\n",
    "import pandas as pd\n",
    "import csv\n",
    "from scipy.sparse import csr_matrix\n"
   ]
  },
  {
   "cell_type": "markdown",
   "id": "4538bd0a",
   "metadata": {},
   "source": [
    "## IMPORTING DATASETS"
   ]
  },
  {
   "cell_type": "code",
   "execution_count": 2,
   "id": "b2706157",
   "metadata": {},
   "outputs": [],
   "source": [
    "artists = pd.read_csv('Musical artists/artists.csv')"
   ]
  },
  {
   "cell_type": "code",
   "execution_count": 19,
   "id": "2f81c785",
   "metadata": {},
   "outputs": [],
   "source": [
    "file_path = open('Musical artists/artists.csv')\n",
    "data = csv.reader(file_path, delimiter ='\\n')\n",
    "artists=[]\n",
    "for items in data:\n",
    "    artists.append(items[0])    "
   ]
  },
  {
   "cell_type": "code",
   "execution_count": 17,
   "id": "e3068d86",
   "metadata": {
    "collapsed": true
   },
   "outputs": [
    {
     "data": {
      "text/plain": [
       "['Massive Attack',\n",
       " 'Sublime',\n",
       " 'Beastie Boys',\n",
       " 'Neil Young',\n",
       " 'Dead Kennedys',\n",
       " 'Orbital',\n",
       " 'Miles Davis',\n",
       " 'Leonard Cohen',\n",
       " 'Van Morrison',\n",
       " 'NOFX',\n",
       " 'Rancid',\n",
       " 'Lamb',\n",
       " 'Korn',\n",
       " 'Dropkick Murphys',\n",
       " 'Bob Dylan',\n",
       " 'Eminem',\n",
       " 'Nirvana',\n",
       " 'Van Halen',\n",
       " 'Damien Rice',\n",
       " 'Elvis Costello',\n",
       " 'Everclear',\n",
       " 'Jimi Hendrix',\n",
       " 'PJ Harvey',\n",
       " 'Red Hot Chili Peppers',\n",
       " 'Ryan Adams',\n",
       " 'Soundgarden',\n",
       " 'The White Stripes',\n",
       " 'Madonna',\n",
       " 'Eric Clapton',\n",
       " 'Bob Marley',\n",
       " 'Dr. Dre',\n",
       " 'The Flaming Lips',\n",
       " 'Tom Waits',\n",
       " 'Moby',\n",
       " 'Cypress Hill',\n",
       " 'Garbage',\n",
       " 'Fear Factory',\n",
       " '50 Cent',\n",
       " 'Ani DiFranco',\n",
       " 'Matchbox Twenty',\n",
       " 'The Police',\n",
       " 'Eagles',\n",
       " 'Phish',\n",
       " 'Stone Temple Pilots',\n",
       " 'Black Sabbath',\n",
       " 'Britney Spears',\n",
       " 'Fatboy Slim',\n",
       " 'System of a Down',\n",
       " 'Simon & Garfunkel',\n",
       " 'Snoop Dogg',\n",
       " 'Aimee Mann',\n",
       " 'Less Than Jake',\n",
       " 'Rammstein',\n",
       " 'Reel Big Fish',\n",
       " 'The Prodigy',\n",
       " 'Pantera',\n",
       " 'Foo Fighters',\n",
       " 'The Beatles',\n",
       " 'Incubus',\n",
       " 'Audioslave',\n",
       " 'Bright Eyes',\n",
       " 'Machine Head',\n",
       " 'AC/DC',\n",
       " 'Dire Straits',\n",
       " 'MotÃ¶rhead',\n",
       " 'Ramones',\n",
       " 'Slipknot',\n",
       " 'Me First and the Gimme Gimmes',\n",
       " 'Bruce Springsteen',\n",
       " 'Queens of the Stone Age',\n",
       " 'The Chemical Brothers',\n",
       " 'Bon Jovi',\n",
       " 'Goo Goo Dolls',\n",
       " 'Alice in Chains',\n",
       " 'Howard Shore',\n",
       " 'Barenaked Ladies',\n",
       " 'Anti-Flag',\n",
       " 'Nick Cave and the Bad Seeds',\n",
       " 'Static-X',\n",
       " 'Misfits',\n",
       " '2Pac',\n",
       " 'Sparta',\n",
       " 'Interpol',\n",
       " 'The Crystal Method',\n",
       " 'The Beach Boys',\n",
       " 'Goldfrapp',\n",
       " 'Bob Marley & the Wailers',\n",
       " 'Kylie Minogue',\n",
       " 'The Blood Brothers',\n",
       " 'Mirah',\n",
       " 'Ludacris',\n",
       " 'Snow Patrol',\n",
       " 'The Mars Volta',\n",
       " 'Yeah Yeah Yeahs',\n",
       " 'Iced Earth',\n",
       " 'Fiona Apple',\n",
       " 'Rilo Kiley',\n",
       " 'Rufus Wainwright',\n",
       " 'Flogging Molly',\n",
       " 'Hot Hot Heat',\n",
       " 'Dredg',\n",
       " 'Switchfoot',\n",
       " 'Tegan and Sara',\n",
       " 'Rage Against the Machine',\n",
       " 'Keane',\n",
       " 'Jet',\n",
       " 'Franz Ferdinand',\n",
       " 'The Postal Service',\n",
       " 'The Dresden Dolls',\n",
       " 'The Killers',\n",
       " 'Death From Above 1979']"
      ]
     },
     "execution_count": 17,
     "metadata": {},
     "output_type": "execute_result"
    }
   ],
   "source": [
    "artists"
   ]
  },
  {
   "cell_type": "code",
   "execution_count": 20,
   "id": "a90ead0b",
   "metadata": {},
   "outputs": [],
   "source": [
    "data = pd.read_csv('Musical artists/scrobbler-small-sample.csv')"
   ]
  },
  {
   "cell_type": "code",
   "execution_count": 21,
   "id": "448b19cc",
   "metadata": {
    "collapsed": true
   },
   "outputs": [
    {
     "data": {
      "text/html": [
       "<div>\n",
       "<style scoped>\n",
       "    .dataframe tbody tr th:only-of-type {\n",
       "        vertical-align: middle;\n",
       "    }\n",
       "\n",
       "    .dataframe tbody tr th {\n",
       "        vertical-align: top;\n",
       "    }\n",
       "\n",
       "    .dataframe thead th {\n",
       "        text-align: right;\n",
       "    }\n",
       "</style>\n",
       "<table border=\"1\" class=\"dataframe\">\n",
       "  <thead>\n",
       "    <tr style=\"text-align: right;\">\n",
       "      <th></th>\n",
       "      <th>user_offset</th>\n",
       "      <th>artist_offset</th>\n",
       "      <th>playcount</th>\n",
       "    </tr>\n",
       "  </thead>\n",
       "  <tbody>\n",
       "    <tr>\n",
       "      <th>0</th>\n",
       "      <td>1</td>\n",
       "      <td>79</td>\n",
       "      <td>58</td>\n",
       "    </tr>\n",
       "    <tr>\n",
       "      <th>1</th>\n",
       "      <td>1</td>\n",
       "      <td>84</td>\n",
       "      <td>80</td>\n",
       "    </tr>\n",
       "    <tr>\n",
       "      <th>2</th>\n",
       "      <td>1</td>\n",
       "      <td>86</td>\n",
       "      <td>317</td>\n",
       "    </tr>\n",
       "    <tr>\n",
       "      <th>3</th>\n",
       "      <td>1</td>\n",
       "      <td>89</td>\n",
       "      <td>64</td>\n",
       "    </tr>\n",
       "    <tr>\n",
       "      <th>4</th>\n",
       "      <td>1</td>\n",
       "      <td>96</td>\n",
       "      <td>159</td>\n",
       "    </tr>\n",
       "    <tr>\n",
       "      <th>...</th>\n",
       "      <td>...</td>\n",
       "      <td>...</td>\n",
       "      <td>...</td>\n",
       "    </tr>\n",
       "    <tr>\n",
       "      <th>2889</th>\n",
       "      <td>0</td>\n",
       "      <td>75</td>\n",
       "      <td>371</td>\n",
       "    </tr>\n",
       "    <tr>\n",
       "      <th>2890</th>\n",
       "      <td>0</td>\n",
       "      <td>26</td>\n",
       "      <td>58</td>\n",
       "    </tr>\n",
       "    <tr>\n",
       "      <th>2891</th>\n",
       "      <td>0</td>\n",
       "      <td>52</td>\n",
       "      <td>58</td>\n",
       "    </tr>\n",
       "    <tr>\n",
       "      <th>2892</th>\n",
       "      <td>0</td>\n",
       "      <td>54</td>\n",
       "      <td>53</td>\n",
       "    </tr>\n",
       "    <tr>\n",
       "      <th>2893</th>\n",
       "      <td>0</td>\n",
       "      <td>1</td>\n",
       "      <td>128</td>\n",
       "    </tr>\n",
       "  </tbody>\n",
       "</table>\n",
       "<p>2894 rows × 3 columns</p>\n",
       "</div>"
      ],
      "text/plain": [
       "      user_offset  artist_offset  playcount\n",
       "0               1             79         58\n",
       "1               1             84         80\n",
       "2               1             86        317\n",
       "3               1             89         64\n",
       "4               1             96        159\n",
       "...           ...            ...        ...\n",
       "2889            0             75        371\n",
       "2890            0             26         58\n",
       "2891            0             52         58\n",
       "2892            0             54         53\n",
       "2893            0              1        128\n",
       "\n",
       "[2894 rows x 3 columns]"
      ]
     },
     "execution_count": 21,
     "metadata": {},
     "output_type": "execute_result"
    }
   ],
   "source": [
    "data"
   ]
  },
  {
   "cell_type": "markdown",
   "id": "51638d34",
   "metadata": {},
   "source": [
    "## PREPROCESSING DATA"
   ]
  },
  {
   "cell_type": "code",
   "execution_count": 24,
   "id": "45b9b98c",
   "metadata": {
    "collapsed": true
   },
   "outputs": [
    {
     "data": {
      "text/plain": [
       "253    28\n",
       "227    23\n",
       "306    22\n",
       "166    21\n",
       "18     20\n",
       "       ..\n",
       "283     3\n",
       "285     3\n",
       "182     3\n",
       "176     3\n",
       "220     3\n",
       "Name: user_offset, Length: 500, dtype: int64"
      ]
     },
     "execution_count": 24,
     "metadata": {},
     "output_type": "execute_result"
    }
   ],
   "source": [
    "data.user_offset.value_counts()"
   ]
  },
  {
   "cell_type": "code",
   "execution_count": 25,
   "id": "7c8fefe5",
   "metadata": {
    "collapsed": true
   },
   "outputs": [
    {
     "data": {
      "text/plain": [
       "array([  1,   2,   3,   4,   5,   6,   7,   8,   9,  10,  11,  12,  13,\n",
       "        14,  15,  16,  17,  18,  19,  20,  21,  22,  23,  24,  25,  26,\n",
       "        27,  28,  29,  30,  31,  32,  33,  34,  35,  36,  37,  38,  39,\n",
       "        40,  41,  42,  43,  44,  45,  46,  47,  48,  49,  50,  51,  52,\n",
       "        53,  54,  55,  56,  57,  58,  59,  60,  61,  62,  63,  64,  65,\n",
       "        66,  67,  68,  69,  70,  71,  72,  73,  74,  75,  76,  77,  78,\n",
       "        79,  80,  81,  82,  83,  84,  85,  86,  87,  88,  89,  90,  91,\n",
       "        92,  93,  94,  95,  96,  97,  98,  99, 100, 101, 102, 103, 104,\n",
       "       105, 106, 107, 108, 109, 110, 111, 112, 113, 114, 115, 116, 117,\n",
       "       118, 119, 120, 121, 122, 123, 124, 125, 126, 127, 128, 129, 130,\n",
       "       131, 132, 133, 134, 135, 136, 137, 138, 139, 140, 141, 142, 143,\n",
       "       144, 145, 146, 147, 148, 149, 150, 151, 152, 153, 154, 155, 156,\n",
       "       157, 158, 159, 160, 161, 162, 163, 164, 165, 166, 167, 168, 169,\n",
       "       170, 171, 172, 173, 174, 175, 176, 177, 178, 179, 180, 181, 182,\n",
       "       183, 184, 185, 186, 187, 188, 189, 190, 191, 192, 193, 194, 195,\n",
       "       196, 197, 198, 199, 200, 201, 202, 203, 204, 205, 206, 207, 208,\n",
       "       209, 210, 211, 212, 213, 214, 215, 216, 217, 218, 219, 220, 221,\n",
       "       222, 223, 224, 225, 226, 227, 228, 229, 230, 231, 232, 233, 234,\n",
       "       235, 236, 237, 238, 239, 240, 241, 242, 243, 244, 245, 246, 247,\n",
       "       248, 249, 250, 251, 252, 253, 254, 255, 256, 257, 258, 259, 260,\n",
       "       261, 262, 263, 264, 265, 266, 267, 268, 269, 270, 271, 272, 273,\n",
       "       274, 275, 276, 277, 278, 279, 280, 281, 282, 283, 284, 285, 286,\n",
       "       287, 288, 289, 290, 291, 292, 293, 294, 295, 296, 297, 298, 299,\n",
       "       300, 301, 302, 303, 304, 305, 306, 307, 308, 309, 310, 311, 312,\n",
       "       313, 314, 315, 316, 317, 318, 319, 320, 321, 322, 323, 324, 325,\n",
       "       326, 327, 328, 329, 330, 331, 332, 333, 334, 335, 336, 337, 338,\n",
       "       339, 340, 341, 342, 343, 344, 345, 346, 347, 348, 349, 350, 351,\n",
       "       352, 353, 354, 355, 356, 357, 358, 359, 360, 361, 362, 363, 364,\n",
       "       365, 366, 367, 368, 369, 370, 371, 372, 373, 374, 375, 376, 377,\n",
       "       378, 379, 380, 381, 382, 383, 384, 385, 386, 387, 388, 389, 390,\n",
       "       391, 392, 393, 394, 395, 396, 397, 398, 399, 400, 401, 402, 403,\n",
       "       404, 405, 406, 407, 408, 409, 410, 411, 412, 413, 414, 415, 416,\n",
       "       417, 418, 419, 420, 421, 422, 423, 424, 425, 426, 427, 428, 429,\n",
       "       430, 431, 432, 433, 434, 435, 436, 437, 438, 439, 440, 441, 442,\n",
       "       443, 444, 445, 446, 447, 448, 449, 450, 451, 452, 453, 454, 455,\n",
       "       456, 457, 458, 459, 460, 461, 462, 463, 464, 465, 466, 467, 468,\n",
       "       469, 470, 471, 472, 473, 474, 475, 476, 477, 478, 479, 480, 481,\n",
       "       482, 483, 484, 485, 486, 487, 488, 489, 490, 491, 492, 493, 494,\n",
       "       495, 496, 497, 498, 499,   0], dtype=int64)"
      ]
     },
     "execution_count": 25,
     "metadata": {},
     "output_type": "execute_result"
    }
   ],
   "source": [
    "data.user_offset.unique()"
   ]
  },
  {
   "cell_type": "code",
   "execution_count": 30,
   "id": "3e691900",
   "metadata": {},
   "outputs": [],
   "source": [
    "data=data.pivot_table(index='artist_offset',columns='user_offset',values='playcount')"
   ]
  },
  {
   "cell_type": "code",
   "execution_count": 31,
   "id": "15c84067",
   "metadata": {},
   "outputs": [],
   "source": [
    "data=data.replace(np.nan , 0)"
   ]
  },
  {
   "cell_type": "code",
   "execution_count": 32,
   "id": "833e6485",
   "metadata": {
    "collapsed": true
   },
   "outputs": [
    {
     "data": {
      "text/html": [
       "<div>\n",
       "<style scoped>\n",
       "    .dataframe tbody tr th:only-of-type {\n",
       "        vertical-align: middle;\n",
       "    }\n",
       "\n",
       "    .dataframe tbody tr th {\n",
       "        vertical-align: top;\n",
       "    }\n",
       "\n",
       "    .dataframe thead th {\n",
       "        text-align: right;\n",
       "    }\n",
       "</style>\n",
       "<table border=\"1\" class=\"dataframe\">\n",
       "  <thead>\n",
       "    <tr style=\"text-align: right;\">\n",
       "      <th>user_offset</th>\n",
       "      <th>0</th>\n",
       "      <th>1</th>\n",
       "      <th>2</th>\n",
       "      <th>3</th>\n",
       "      <th>4</th>\n",
       "      <th>5</th>\n",
       "      <th>6</th>\n",
       "      <th>7</th>\n",
       "      <th>8</th>\n",
       "      <th>9</th>\n",
       "      <th>...</th>\n",
       "      <th>490</th>\n",
       "      <th>491</th>\n",
       "      <th>492</th>\n",
       "      <th>493</th>\n",
       "      <th>494</th>\n",
       "      <th>495</th>\n",
       "      <th>496</th>\n",
       "      <th>497</th>\n",
       "      <th>498</th>\n",
       "      <th>499</th>\n",
       "    </tr>\n",
       "    <tr>\n",
       "      <th>artist_offset</th>\n",
       "      <th></th>\n",
       "      <th></th>\n",
       "      <th></th>\n",
       "      <th></th>\n",
       "      <th></th>\n",
       "      <th></th>\n",
       "      <th></th>\n",
       "      <th></th>\n",
       "      <th></th>\n",
       "      <th></th>\n",
       "      <th></th>\n",
       "      <th></th>\n",
       "      <th></th>\n",
       "      <th></th>\n",
       "      <th></th>\n",
       "      <th></th>\n",
       "      <th></th>\n",
       "      <th></th>\n",
       "      <th></th>\n",
       "      <th></th>\n",
       "      <th></th>\n",
       "    </tr>\n",
       "  </thead>\n",
       "  <tbody>\n",
       "    <tr>\n",
       "      <th>0</th>\n",
       "      <td>0.0</td>\n",
       "      <td>0.0</td>\n",
       "      <td>105.0</td>\n",
       "      <td>0.0</td>\n",
       "      <td>0.0</td>\n",
       "      <td>0.0</td>\n",
       "      <td>0.0</td>\n",
       "      <td>0.0</td>\n",
       "      <td>0.0</td>\n",
       "      <td>0.0</td>\n",
       "      <td>...</td>\n",
       "      <td>0.0</td>\n",
       "      <td>0.0</td>\n",
       "      <td>0.0</td>\n",
       "      <td>0.0</td>\n",
       "      <td>0.0</td>\n",
       "      <td>0.0</td>\n",
       "      <td>0.0</td>\n",
       "      <td>0.0</td>\n",
       "      <td>0.0</td>\n",
       "      <td>0.0</td>\n",
       "    </tr>\n",
       "    <tr>\n",
       "      <th>1</th>\n",
       "      <td>128.0</td>\n",
       "      <td>211.0</td>\n",
       "      <td>0.0</td>\n",
       "      <td>0.0</td>\n",
       "      <td>0.0</td>\n",
       "      <td>0.0</td>\n",
       "      <td>0.0</td>\n",
       "      <td>0.0</td>\n",
       "      <td>0.0</td>\n",
       "      <td>0.0</td>\n",
       "      <td>...</td>\n",
       "      <td>0.0</td>\n",
       "      <td>0.0</td>\n",
       "      <td>0.0</td>\n",
       "      <td>270.0</td>\n",
       "      <td>0.0</td>\n",
       "      <td>105.0</td>\n",
       "      <td>97.0</td>\n",
       "      <td>0.0</td>\n",
       "      <td>0.0</td>\n",
       "      <td>0.0</td>\n",
       "    </tr>\n",
       "    <tr>\n",
       "      <th>2</th>\n",
       "      <td>0.0</td>\n",
       "      <td>0.0</td>\n",
       "      <td>0.0</td>\n",
       "      <td>0.0</td>\n",
       "      <td>0.0</td>\n",
       "      <td>0.0</td>\n",
       "      <td>0.0</td>\n",
       "      <td>0.0</td>\n",
       "      <td>0.0</td>\n",
       "      <td>0.0</td>\n",
       "      <td>...</td>\n",
       "      <td>0.0</td>\n",
       "      <td>0.0</td>\n",
       "      <td>0.0</td>\n",
       "      <td>0.0</td>\n",
       "      <td>0.0</td>\n",
       "      <td>0.0</td>\n",
       "      <td>0.0</td>\n",
       "      <td>0.0</td>\n",
       "      <td>0.0</td>\n",
       "      <td>0.0</td>\n",
       "    </tr>\n",
       "    <tr>\n",
       "      <th>3</th>\n",
       "      <td>0.0</td>\n",
       "      <td>0.0</td>\n",
       "      <td>0.0</td>\n",
       "      <td>0.0</td>\n",
       "      <td>0.0</td>\n",
       "      <td>0.0</td>\n",
       "      <td>0.0</td>\n",
       "      <td>0.0</td>\n",
       "      <td>0.0</td>\n",
       "      <td>0.0</td>\n",
       "      <td>...</td>\n",
       "      <td>0.0</td>\n",
       "      <td>0.0</td>\n",
       "      <td>0.0</td>\n",
       "      <td>0.0</td>\n",
       "      <td>0.0</td>\n",
       "      <td>0.0</td>\n",
       "      <td>0.0</td>\n",
       "      <td>0.0</td>\n",
       "      <td>0.0</td>\n",
       "      <td>0.0</td>\n",
       "    </tr>\n",
       "    <tr>\n",
       "      <th>4</th>\n",
       "      <td>0.0</td>\n",
       "      <td>0.0</td>\n",
       "      <td>0.0</td>\n",
       "      <td>0.0</td>\n",
       "      <td>0.0</td>\n",
       "      <td>0.0</td>\n",
       "      <td>0.0</td>\n",
       "      <td>0.0</td>\n",
       "      <td>0.0</td>\n",
       "      <td>0.0</td>\n",
       "      <td>...</td>\n",
       "      <td>0.0</td>\n",
       "      <td>0.0</td>\n",
       "      <td>0.0</td>\n",
       "      <td>0.0</td>\n",
       "      <td>0.0</td>\n",
       "      <td>0.0</td>\n",
       "      <td>0.0</td>\n",
       "      <td>0.0</td>\n",
       "      <td>0.0</td>\n",
       "      <td>0.0</td>\n",
       "    </tr>\n",
       "    <tr>\n",
       "      <th>...</th>\n",
       "      <td>...</td>\n",
       "      <td>...</td>\n",
       "      <td>...</td>\n",
       "      <td>...</td>\n",
       "      <td>...</td>\n",
       "      <td>...</td>\n",
       "      <td>...</td>\n",
       "      <td>...</td>\n",
       "      <td>...</td>\n",
       "      <td>...</td>\n",
       "      <td>...</td>\n",
       "      <td>...</td>\n",
       "      <td>...</td>\n",
       "      <td>...</td>\n",
       "      <td>...</td>\n",
       "      <td>...</td>\n",
       "      <td>...</td>\n",
       "      <td>...</td>\n",
       "      <td>...</td>\n",
       "      <td>...</td>\n",
       "      <td>...</td>\n",
       "    </tr>\n",
       "    <tr>\n",
       "      <th>106</th>\n",
       "      <td>0.0</td>\n",
       "      <td>0.0</td>\n",
       "      <td>0.0</td>\n",
       "      <td>0.0</td>\n",
       "      <td>0.0</td>\n",
       "      <td>0.0</td>\n",
       "      <td>0.0</td>\n",
       "      <td>0.0</td>\n",
       "      <td>0.0</td>\n",
       "      <td>0.0</td>\n",
       "      <td>...</td>\n",
       "      <td>0.0</td>\n",
       "      <td>0.0</td>\n",
       "      <td>84.0</td>\n",
       "      <td>0.0</td>\n",
       "      <td>0.0</td>\n",
       "      <td>0.0</td>\n",
       "      <td>0.0</td>\n",
       "      <td>0.0</td>\n",
       "      <td>0.0</td>\n",
       "      <td>0.0</td>\n",
       "    </tr>\n",
       "    <tr>\n",
       "      <th>107</th>\n",
       "      <td>0.0</td>\n",
       "      <td>0.0</td>\n",
       "      <td>75.0</td>\n",
       "      <td>0.0</td>\n",
       "      <td>0.0</td>\n",
       "      <td>0.0</td>\n",
       "      <td>0.0</td>\n",
       "      <td>0.0</td>\n",
       "      <td>0.0</td>\n",
       "      <td>0.0</td>\n",
       "      <td>...</td>\n",
       "      <td>0.0</td>\n",
       "      <td>0.0</td>\n",
       "      <td>51.0</td>\n",
       "      <td>0.0</td>\n",
       "      <td>0.0</td>\n",
       "      <td>0.0</td>\n",
       "      <td>0.0</td>\n",
       "      <td>0.0</td>\n",
       "      <td>475.0</td>\n",
       "      <td>0.0</td>\n",
       "    </tr>\n",
       "    <tr>\n",
       "      <th>108</th>\n",
       "      <td>0.0</td>\n",
       "      <td>0.0</td>\n",
       "      <td>0.0</td>\n",
       "      <td>0.0</td>\n",
       "      <td>0.0</td>\n",
       "      <td>0.0</td>\n",
       "      <td>0.0</td>\n",
       "      <td>0.0</td>\n",
       "      <td>0.0</td>\n",
       "      <td>0.0</td>\n",
       "      <td>...</td>\n",
       "      <td>0.0</td>\n",
       "      <td>0.0</td>\n",
       "      <td>0.0</td>\n",
       "      <td>0.0</td>\n",
       "      <td>0.0</td>\n",
       "      <td>0.0</td>\n",
       "      <td>0.0</td>\n",
       "      <td>0.0</td>\n",
       "      <td>0.0</td>\n",
       "      <td>0.0</td>\n",
       "    </tr>\n",
       "    <tr>\n",
       "      <th>109</th>\n",
       "      <td>0.0</td>\n",
       "      <td>0.0</td>\n",
       "      <td>0.0</td>\n",
       "      <td>0.0</td>\n",
       "      <td>0.0</td>\n",
       "      <td>0.0</td>\n",
       "      <td>0.0</td>\n",
       "      <td>0.0</td>\n",
       "      <td>0.0</td>\n",
       "      <td>0.0</td>\n",
       "      <td>...</td>\n",
       "      <td>0.0</td>\n",
       "      <td>0.0</td>\n",
       "      <td>0.0</td>\n",
       "      <td>0.0</td>\n",
       "      <td>0.0</td>\n",
       "      <td>0.0</td>\n",
       "      <td>0.0</td>\n",
       "      <td>0.0</td>\n",
       "      <td>55.0</td>\n",
       "      <td>0.0</td>\n",
       "    </tr>\n",
       "    <tr>\n",
       "      <th>110</th>\n",
       "      <td>0.0</td>\n",
       "      <td>0.0</td>\n",
       "      <td>0.0</td>\n",
       "      <td>0.0</td>\n",
       "      <td>0.0</td>\n",
       "      <td>0.0</td>\n",
       "      <td>0.0</td>\n",
       "      <td>0.0</td>\n",
       "      <td>0.0</td>\n",
       "      <td>0.0</td>\n",
       "      <td>...</td>\n",
       "      <td>0.0</td>\n",
       "      <td>0.0</td>\n",
       "      <td>0.0</td>\n",
       "      <td>0.0</td>\n",
       "      <td>0.0</td>\n",
       "      <td>0.0</td>\n",
       "      <td>0.0</td>\n",
       "      <td>0.0</td>\n",
       "      <td>0.0</td>\n",
       "      <td>0.0</td>\n",
       "    </tr>\n",
       "  </tbody>\n",
       "</table>\n",
       "<p>111 rows × 500 columns</p>\n",
       "</div>"
      ],
      "text/plain": [
       "user_offset      0      1      2    3    4    5    6    7    8    9    ...  \\\n",
       "artist_offset                                                          ...   \n",
       "0                0.0    0.0  105.0  0.0  0.0  0.0  0.0  0.0  0.0  0.0  ...   \n",
       "1              128.0  211.0    0.0  0.0  0.0  0.0  0.0  0.0  0.0  0.0  ...   \n",
       "2                0.0    0.0    0.0  0.0  0.0  0.0  0.0  0.0  0.0  0.0  ...   \n",
       "3                0.0    0.0    0.0  0.0  0.0  0.0  0.0  0.0  0.0  0.0  ...   \n",
       "4                0.0    0.0    0.0  0.0  0.0  0.0  0.0  0.0  0.0  0.0  ...   \n",
       "...              ...    ...    ...  ...  ...  ...  ...  ...  ...  ...  ...   \n",
       "106              0.0    0.0    0.0  0.0  0.0  0.0  0.0  0.0  0.0  0.0  ...   \n",
       "107              0.0    0.0   75.0  0.0  0.0  0.0  0.0  0.0  0.0  0.0  ...   \n",
       "108              0.0    0.0    0.0  0.0  0.0  0.0  0.0  0.0  0.0  0.0  ...   \n",
       "109              0.0    0.0    0.0  0.0  0.0  0.0  0.0  0.0  0.0  0.0  ...   \n",
       "110              0.0    0.0    0.0  0.0  0.0  0.0  0.0  0.0  0.0  0.0  ...   \n",
       "\n",
       "user_offset    490  491   492    493  494    495   496  497    498  499  \n",
       "artist_offset                                                            \n",
       "0              0.0  0.0   0.0    0.0  0.0    0.0   0.0  0.0    0.0  0.0  \n",
       "1              0.0  0.0   0.0  270.0  0.0  105.0  97.0  0.0    0.0  0.0  \n",
       "2              0.0  0.0   0.0    0.0  0.0    0.0   0.0  0.0    0.0  0.0  \n",
       "3              0.0  0.0   0.0    0.0  0.0    0.0   0.0  0.0    0.0  0.0  \n",
       "4              0.0  0.0   0.0    0.0  0.0    0.0   0.0  0.0    0.0  0.0  \n",
       "...            ...  ...   ...    ...  ...    ...   ...  ...    ...  ...  \n",
       "106            0.0  0.0  84.0    0.0  0.0    0.0   0.0  0.0    0.0  0.0  \n",
       "107            0.0  0.0  51.0    0.0  0.0    0.0   0.0  0.0  475.0  0.0  \n",
       "108            0.0  0.0   0.0    0.0  0.0    0.0   0.0  0.0    0.0  0.0  \n",
       "109            0.0  0.0   0.0    0.0  0.0    0.0   0.0  0.0   55.0  0.0  \n",
       "110            0.0  0.0   0.0    0.0  0.0    0.0   0.0  0.0    0.0  0.0  \n",
       "\n",
       "[111 rows x 500 columns]"
      ]
     },
     "execution_count": 32,
     "metadata": {},
     "output_type": "execute_result"
    }
   ],
   "source": [
    "data"
   ]
  },
  {
   "cell_type": "code",
   "execution_count": 35,
   "id": "26b8b2ee",
   "metadata": {},
   "outputs": [],
   "source": [
    "data_csr_matrix=csr_matrix(data)"
   ]
  },
  {
   "cell_type": "code",
   "execution_count": 36,
   "id": "69036810",
   "metadata": {},
   "outputs": [
    {
     "data": {
      "text/plain": [
       "<111x500 sparse matrix of type '<class 'numpy.float64'>'\n",
       "\twith 2894 stored elements in Compressed Sparse Row format>"
      ]
     },
     "execution_count": 36,
     "metadata": {},
     "output_type": "execute_result"
    }
   ],
   "source": [
    "data_csr_matrix"
   ]
  },
  {
   "cell_type": "markdown",
   "id": "9a38203c",
   "metadata": {},
   "source": [
    "## SCALING DATA"
   ]
  },
  {
   "cell_type": "code",
   "execution_count": 78,
   "id": "a539a66c",
   "metadata": {},
   "outputs": [],
   "source": [
    "from sklearn.preprocessing import MaxAbsScaler\n",
    "\n",
    "scaler=MaxAbsScaler()\n",
    "scaler.fit(data_csr_matrix)\n",
    "maxabsscaler_data_csr_matrix = scaler.transform(data_csr_matrix)"
   ]
  },
  {
   "cell_type": "markdown",
   "id": "1dd747f9",
   "metadata": {},
   "source": [
    "## MODEL FITTING"
   ]
  },
  {
   "cell_type": "code",
   "execution_count": 80,
   "id": "225e3d7b",
   "metadata": {},
   "outputs": [
    {
     "name": "stderr",
     "output_type": "stream",
     "text": [
      "C:\\Users\\lfc\\anaconda3\\lib\\site-packages\\sklearn\\decomposition\\_nmf.py:312: FutureWarning: The 'init' value, when 'init=None' and n_components is less than n_samples and n_features, will be changed from 'nndsvd' to 'nndsvda' in 1.1 (renaming of 0.26).\n",
      "  warnings.warn((\"The 'init' value, when 'init=None' and \"\n"
     ]
    },
    {
     "data": {
      "text/plain": [
       "NMF(n_components=20)"
      ]
     },
     "execution_count": 80,
     "metadata": {},
     "output_type": "execute_result"
    }
   ],
   "source": [
    "from sklearn.decomposition import NMF\n",
    "\n",
    "model = NMF(n_components = 20)\n",
    "model.fit(maxabsscaler_data_csr_matrix)"
   ]
  },
  {
   "cell_type": "code",
   "execution_count": 81,
   "id": "ff7efad5",
   "metadata": {},
   "outputs": [],
   "source": [
    "nmf_features = model.transform(maxabsscaler_data_csr_matrix)"
   ]
  },
  {
   "cell_type": "code",
   "execution_count": 82,
   "id": "a5ef86b0",
   "metadata": {},
   "outputs": [
    {
     "data": {
      "text/plain": [
       "(111, 20)"
      ]
     },
     "execution_count": 82,
     "metadata": {},
     "output_type": "execute_result"
    }
   ],
   "source": [
    "nmf_features.shape"
   ]
  },
  {
   "cell_type": "code",
   "execution_count": 83,
   "id": "bcce4c83",
   "metadata": {},
   "outputs": [
    {
     "data": {
      "text/plain": [
       "(20, 500)"
      ]
     },
     "execution_count": 83,
     "metadata": {},
     "output_type": "execute_result"
    }
   ],
   "source": [
    "model.components_.shape"
   ]
  },
  {
   "cell_type": "markdown",
   "id": "456f5ef7",
   "metadata": {},
   "source": [
    "## Normalizing the nmf_features"
   ]
  },
  {
   "cell_type": "code",
   "execution_count": 84,
   "id": "96bf6803",
   "metadata": {},
   "outputs": [],
   "source": [
    "from sklearn.preprocessing import normalize"
   ]
  },
  {
   "cell_type": "code",
   "execution_count": 85,
   "id": "6a335dee",
   "metadata": {},
   "outputs": [],
   "source": [
    "normalized_nmf_features = normalize(nmf_features)"
   ]
  },
  {
   "cell_type": "code",
   "execution_count": 86,
   "id": "b47d7a62",
   "metadata": {},
   "outputs": [],
   "source": [
    "df=pd.DataFrame(normalized_nmf_features , index =artists)"
   ]
  },
  {
   "cell_type": "code",
   "execution_count": 90,
   "id": "78e036ca",
   "metadata": {},
   "outputs": [],
   "source": [
    "artist = df.loc['Bob Dylan']"
   ]
  },
  {
   "cell_type": "code",
   "execution_count": 91,
   "id": "e698b1f3",
   "metadata": {},
   "outputs": [],
   "source": [
    "recommendation = df.dot(artist)"
   ]
  },
  {
   "cell_type": "code",
   "execution_count": 92,
   "id": "fc2eee33",
   "metadata": {},
   "outputs": [
    {
     "name": "stdout",
     "output_type": "stream",
     "text": [
      "Bob Dylan       1.000000\n",
      "Neil Young      0.958643\n",
      "Ryan Adams      0.946185\n",
      "Tom Waits       0.927434\n",
      "Van Morrison    0.893894\n",
      "dtype: float64\n"
     ]
    }
   ],
   "source": [
    "print(recommendation.nlargest())"
   ]
  },
  {
   "cell_type": "code",
   "execution_count": null,
   "id": "1b084ba2",
   "metadata": {},
   "outputs": [],
   "source": []
  }
 ],
 "metadata": {
  "kernelspec": {
   "display_name": "Python 3",
   "language": "python",
   "name": "python3"
  },
  "language_info": {
   "codemirror_mode": {
    "name": "ipython",
    "version": 3
   },
   "file_extension": ".py",
   "mimetype": "text/x-python",
   "name": "python",
   "nbconvert_exporter": "python",
   "pygments_lexer": "ipython3",
   "version": "3.8.5"
  }
 },
 "nbformat": 4,
 "nbformat_minor": 5
}
