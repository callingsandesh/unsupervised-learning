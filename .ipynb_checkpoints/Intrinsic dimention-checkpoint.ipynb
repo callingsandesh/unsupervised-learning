{
 "cells": [
  {
   "cell_type": "code",
   "execution_count": 5,
   "id": "83403a08",
   "metadata": {},
   "outputs": [],
   "source": [
    "import numpy as np\n",
    "import pandas as pd\n",
    "import csv"
   ]
  },
  {
   "cell_type": "code",
   "execution_count": 50,
   "id": "1f87ac6f",
   "metadata": {},
   "outputs": [],
   "source": [
    "datafile = open('fish.csv', 'r')\n",
    "datareader = csv.reader(datafile, delimiter=',')\n",
    "data = []\n",
    "for row in datareader:\n",
    "    row_item=[]\n",
    "    for items in row:\n",
    "        row_item.append(items)\n",
    "    data.append(row_item)\n",
    "fish_data=np.array(data)[:,1:]\n",
    "varieties_fish = np.array(data)[:,0]"
   ]
  },
  {
   "cell_type": "code",
   "execution_count": 53,
   "id": "34e875a2",
   "metadata": {},
   "outputs": [],
   "source": [
    "fish_dataset = []\n",
    "for i in range(len(fish_data)):\n",
    "    row=[]\n",
    "    for j in range(len(fish_data[i])):\n",
    "        item = float(fish_data[i][j])\n",
    "        row.append(item)\n",
    "    fish_dataset.append(row)"
   ]
  },
  {
   "cell_type": "markdown",
   "id": "9b913255",
   "metadata": {},
   "source": [
    "### Variance of the PCA features\n",
    "The fish dataset is 6-dimensional. But what is its intrinsic dimension? We will plot the variances of the PCA features to find out. As before, samples is a 2D array, where each row represents a fish. We will need to standardize the features first."
   ]
  },
  {
   "cell_type": "code",
   "execution_count": 57,
   "id": "71fb5adb",
   "metadata": {},
   "outputs": [
    {
     "name": "stdout",
     "output_type": "stream",
     "text": [
      "6\n",
      "[3.94616746e+00 1.78097907e+00 2.43235593e-01 1.00351845e-01\n",
      " 5.63140996e-04 1.31462706e-04]\n"
     ]
    },
    {
     "data": {
      "image/png": "[encoded data removed]",
      "text/plain": [
       "<Figure size 432x288 with 1 Axes>"
      ]
     },
     "metadata": {
      "needs_background": "light"
     },
     "output_type": "display_data"
    }
   ],
   "source": [
    "# Perform the necessary imports\n",
    "from sklearn.decomposition import PCA\n",
    "from sklearn.preprocessing import StandardScaler\n",
    "from sklearn.pipeline import make_pipeline\n",
    "import matplotlib.pyplot as plt\n",
    "\n",
    "# Create scaler: scaler\n",
    "scaler = StandardScaler()\n",
    "\n",
    "# Create a PCA instance: pca\n",
    "pca = PCA()\n",
    "# Create pipeline: pipeline\n",
    "pipeline = make_pipeline(scaler, pca)\n",
    "\n",
    "# Fit the pipeline to 'samples'\n",
    "pipeline.fit(fish_dataset)\n",
    "\n",
    "print(pca.n_components_)\n",
    "print(pca.explained_variance_)\n",
    "# Plot the explained variances\n",
    "features = range(pca.n_components_)\n",
    "plt.bar(features, pca.explained_variance_)\n",
    "plt.xlabel('PCA feature')\n",
    "plt.ylabel('variance')\n",
    "plt.xticks(features)\n",
    "plt.show()\n"
   ]
  },
  {
   "cell_type": "markdown",
   "id": "6c656510",
   "metadata": {},
   "source": [
    "It looks like PCA features 0 and 1 have significant variance."
   ]
  },
  {
   "cell_type": "markdown",
   "id": "16a9b4cf",
   "metadata": {},
   "source": [
    "Since PCA features 0 and 1 have significant variance, the intrinsic dimension of this dataset appears to be 2."
   ]
  },
  {
   "cell_type": "code",
   "execution_count": null,
   "id": "20ef4f05",
   "metadata": {},
   "outputs": [],
   "source": []
  },
  {
   "cell_type": "code",
   "execution_count": null,
   "id": "34fe08cd",
   "metadata": {},
   "outputs": [],
   "source": []
  }
 ],
 "metadata": {
  "kernelspec": {
   "display_name": "Python 3",
   "language": "python",
   "name": "python3"
  },
  "language_info": {
   "codemirror_mode": {
    "name": "ipython",
    "version": 3
   },
   "file_extension": ".py",
   "mimetype": "text/x-python",
   "name": "python",
   "nbconvert_exporter": "python",
   "pygments_lexer": "ipython3",
   "version": "3.8.5"
  }
 },
 "nbformat": 4,
 "nbformat_minor": 5
}
